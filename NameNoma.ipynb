{
 "cells": [
  {
   "cell_type": "code",
   "execution_count": 13,
   "metadata": {
    "collapsed": false
   },
   "outputs": [
    {
     "name": "stdout",
     "output_type": "stream",
     "text": [
      "[None, None, None, None, None, None, None, None, None, None, None, None, None, None, None, None, None, None, None, None, None, None, None, None, None, None, None, None, None, None, None, None, None, None, None, None, None, None, None, None, None, None, None, None, None, None, None, None, None, None, None, None, None, None, None, None, None, None, None, None, None, None, None, None, None, None, None, None, None, None, None, None, None, None, None, None, None, None, None, None, None, None, None, None, None, None, None, None, None, None, None, None, None, None, None, None, None, None, None, None, None, None, None, None, None, None, None, None, None, None, None, None, None, None, None, None, None, None, None, None, None, None]\n"
     ]
    }
   ],
   "source": [
    "import os\n",
    "import numpy as np\n",
    "import re\n",
    "import pandas as pd\n",
    " \n",
    "dire = r'D:/iflytek/image'\n",
    "a = os.listdir(dire)\n",
    " \n",
    "mode = re.compile(r'\\d+')\n",
    "n = len(a)\n",
    "ids = [None]*n\n",
    "\n",
    "print (ids)\n",
    "\n",
    "for i in range(len(a)):\n",
    "    ids[i] = mode.findall(a[i])\n",
    "    a[i] = dire + '/' + a[i]\n",
    "    \n",
    "b = np.zeros(n).astype(np.str)\n",
    "\n",
    "pos = 6\n",
    "for i in range(n):\n",
    "    c = str(i)\n",
    "    ze = pos-len(c)\n",
    "    b[i] = '0'*ze+str(i)\n",
    "    b[i] = dire +'\\\\'+b[i]+'.jpg'\n",
    "\n",
    "for i in range(n):\n",
    "    os.rename(a[i],b[i])"
   ]
  },
  {
   "cell_type": "code",
   "execution_count": 32,
   "metadata": {
    "collapsed": false
   },
   "outputs": [
    {
     "name": "stdout",
     "output_type": "stream",
     "text": [
      "[ 78.85924361  97.49687831   7.39320507  34.95832013]\n",
      "[ 43.65089346  81.99557378  21.38804668  99.85747208]\n",
      "[ 57.18137172  77.04155329  71.5650962   43.63061908]\n",
      "[  8.95330792  43.93119596  59.67928414  22.53511699]\n",
      "[ 29.54424245  13.29209026  47.67983087  62.35898114]\n",
      "[ 22.83159437  20.40452418  55.96253901  13.17140236]\n",
      "[ 13.96002742  10.38590021  74.73170661  19.65077187]\n",
      "[ 93.8336205   56.74010635  94.7007785   89.69755225]\n",
      "[  7.36025565  65.727746    28.80404617  52.33667565]\n",
      "[  9.67670444  71.50675753  20.78379433  52.71338657]\n",
      "[ 14.18112114  78.76051631  54.76596281   4.72323841]\n",
      "[ 42.74913071  77.98279412  98.19732732  99.55583992]\n",
      "[ 86.77260926   3.61832778  58.09300994  18.77218798]\n",
      "[ 83.54556079  82.52631251  59.53097075  24.14758873]\n",
      "[ 57.67621718  87.09426159  12.63886229   5.23954305]\n",
      "[ 99.58894958  87.73772065  51.32383335  41.88091453]\n",
      "[ 29.82857262  75.31556608  11.43552686  46.32687188]\n",
      "[  0.38208529  40.90214009  38.7039691   26.54322781]\n",
      "[ 81.20398261  77.91170495  15.4918095   22.00048178]\n",
      "[ 99.56066742  24.07134936  51.46694796  15.18773444]\n"
     ]
    }
   ],
   "source": [
    "dire = r'D:/iflytek/image'\n",
    "a = os.listdir(dire)\n",
    "fr = open('information.txt','w')\n",
    "for i in a:\n",
    "    filename = dire + '/' + i\n",
    "    fr.write(filename+'\\t')     \n",
    "    xy = np.random.rand(1,4).squeeze()*100\n",
    "    print(xy)\n",
    "    for i in xy:\n",
    "        fr.write(str(int(i))+'\\t')\n",
    "    fr.write('\\n')\n",
    "fr.close()\n",
    "    "
   ]
  },
  {
   "cell_type": "code",
   "execution_count": null,
   "metadata": {
    "collapsed": true
   },
   "outputs": [],
   "source": []
  }
 ],
 "metadata": {
  "anaconda-cloud": {},
  "kernelspec": {
   "display_name": "Python [conda env:Anaconda3]",
   "language": "python",
   "name": "conda-env-Anaconda3-py"
  },
  "language_info": {
   "codemirror_mode": {
    "name": "ipython",
    "version": 3
   },
   "file_extension": ".py",
   "mimetype": "text/x-python",
   "name": "python",
   "nbconvert_exporter": "python",
   "pygments_lexer": "ipython3",
   "version": "3.5.2"
  }
 },
 "nbformat": 4,
 "nbformat_minor": 1
}
